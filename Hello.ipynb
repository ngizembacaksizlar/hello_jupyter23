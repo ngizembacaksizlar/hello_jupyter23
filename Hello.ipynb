{
 "cells": [
  {
   "cell_type": "markdown",
   "id": "2d870547",
   "metadata": {},
   "source": [
    "# hello world"
   ]
  },
  {
   "cell_type": "markdown",
   "id": "12e06c1d",
   "metadata": {},
   "source": [
    "test repo for git"
   ]
  },
  {
   "cell_type": "code",
   "execution_count": null,
   "id": "d56160f6",
   "metadata": {},
   "outputs": [],
   "source": []
  }
 ],
 "metadata": {
  "kernelspec": {
   "display_name": "Python 3",
   "language": "python",
   "name": "python3"
  },
  "language_info": {
   "codemirror_mode": {
    "name": "ipython",
    "version": 3
   },
   "file_extension": ".py",
   "mimetype": "text/x-python",
   "name": "python",
   "nbconvert_exporter": "python",
   "pygments_lexer": "ipython3",
   "version": "3.8.8"
  }
 },
 "nbformat": 4,
 "nbformat_minor": 5
}
